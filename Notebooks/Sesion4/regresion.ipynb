{
 "cells": [
  {
   "cell_type": "code",
   "execution_count": null,
   "metadata": {},
   "outputs": [],
   "source": [
    "# pip install -q seaborn"
   ]
  },
  {
   "cell_type": "code",
   "execution_count": 32,
   "metadata": {},
   "outputs": [],
   "source": [
    "import numpy as np\n",
    "import pandas as pd\n",
    "import seaborn as sns\n",
    "\n",
    "import matplotlib.pyplot as plt\n",
    "\n",
    "import tensorflow as tf\n",
    "\n",
    "from tensorflow import keras\n",
    "from tensorflow.keras import layers\n",
    "\n",
    "from sklearn.preprocessing import StandardScaler, MinMaxScaler, Normalizer"
   ]
  },
  {
   "cell_type": "code",
   "execution_count": 70,
   "metadata": {},
   "outputs": [],
   "source": [
    "def plot_loss(history):\n",
    "    plt.plot(history.history['loss'], label='loss')\n",
    "    plt.plot(history.history['val_loss'], label='val_loss')\n",
    "    plt.xlabel('Epoch')\n",
    "    plt.ylabel('Error [MPG]')\n",
    "    plt.legend()\n",
    "    plt.grid(True)"
   ]
  },
  {
   "cell_type": "code",
   "execution_count": 5,
   "metadata": {},
   "outputs": [],
   "source": [
    "url = 'http://archive.ics.uci.edu/ml/machine-learning-databases/auto-mpg/auto-mpg.data'\n",
    "\n",
    "column_names = ['MPG','Cylinders','Displacement','Horsepower', 'Weight', 'Acceleration', 'Model Year', 'Origin']\n",
    "\n",
    "raw_dataset = pd.read_csv(url, names=column_names, na_values = \"?\", comment='\\t', sep=\" \", skipinitialspace=True)\n",
    "\n",
    "df = raw_dataset.copy()"
   ]
  },
  {
   "cell_type": "code",
   "execution_count": 6,
   "metadata": {},
   "outputs": [
    {
     "data": {
      "text/html": [
       "<div>\n",
       "<style scoped>\n",
       "    .dataframe tbody tr th:only-of-type {\n",
       "        vertical-align: middle;\n",
       "    }\n",
       "\n",
       "    .dataframe tbody tr th {\n",
       "        vertical-align: top;\n",
       "    }\n",
       "\n",
       "    .dataframe thead th {\n",
       "        text-align: right;\n",
       "    }\n",
       "</style>\n",
       "<table border=\"1\" class=\"dataframe\">\n",
       "  <thead>\n",
       "    <tr style=\"text-align: right;\">\n",
       "      <th></th>\n",
       "      <th>MPG</th>\n",
       "      <th>Cylinders</th>\n",
       "      <th>Displacement</th>\n",
       "      <th>Horsepower</th>\n",
       "      <th>Weight</th>\n",
       "      <th>Acceleration</th>\n",
       "      <th>Model Year</th>\n",
       "      <th>Origin</th>\n",
       "    </tr>\n",
       "  </thead>\n",
       "  <tbody>\n",
       "    <tr>\n",
       "      <th>0</th>\n",
       "      <td>18.0</td>\n",
       "      <td>8</td>\n",
       "      <td>307.0</td>\n",
       "      <td>130.0</td>\n",
       "      <td>3504.0</td>\n",
       "      <td>12.0</td>\n",
       "      <td>70</td>\n",
       "      <td>1</td>\n",
       "    </tr>\n",
       "    <tr>\n",
       "      <th>1</th>\n",
       "      <td>15.0</td>\n",
       "      <td>8</td>\n",
       "      <td>350.0</td>\n",
       "      <td>165.0</td>\n",
       "      <td>3693.0</td>\n",
       "      <td>11.5</td>\n",
       "      <td>70</td>\n",
       "      <td>1</td>\n",
       "    </tr>\n",
       "    <tr>\n",
       "      <th>2</th>\n",
       "      <td>18.0</td>\n",
       "      <td>8</td>\n",
       "      <td>318.0</td>\n",
       "      <td>150.0</td>\n",
       "      <td>3436.0</td>\n",
       "      <td>11.0</td>\n",
       "      <td>70</td>\n",
       "      <td>1</td>\n",
       "    </tr>\n",
       "    <tr>\n",
       "      <th>3</th>\n",
       "      <td>16.0</td>\n",
       "      <td>8</td>\n",
       "      <td>304.0</td>\n",
       "      <td>150.0</td>\n",
       "      <td>3433.0</td>\n",
       "      <td>12.0</td>\n",
       "      <td>70</td>\n",
       "      <td>1</td>\n",
       "    </tr>\n",
       "    <tr>\n",
       "      <th>4</th>\n",
       "      <td>17.0</td>\n",
       "      <td>8</td>\n",
       "      <td>302.0</td>\n",
       "      <td>140.0</td>\n",
       "      <td>3449.0</td>\n",
       "      <td>10.5</td>\n",
       "      <td>70</td>\n",
       "      <td>1</td>\n",
       "    </tr>\n",
       "  </tbody>\n",
       "</table>\n",
       "</div>"
      ],
      "text/plain": [
       "    MPG  Cylinders  Displacement  Horsepower  Weight  Acceleration  \\\n",
       "0  18.0          8         307.0       130.0  3504.0          12.0   \n",
       "1  15.0          8         350.0       165.0  3693.0          11.5   \n",
       "2  18.0          8         318.0       150.0  3436.0          11.0   \n",
       "3  16.0          8         304.0       150.0  3433.0          12.0   \n",
       "4  17.0          8         302.0       140.0  3449.0          10.5   \n",
       "\n",
       "   Model Year  Origin  \n",
       "0          70       1  \n",
       "1          70       1  \n",
       "2          70       1  \n",
       "3          70       1  \n",
       "4          70       1  "
      ]
     },
     "execution_count": 6,
     "metadata": {},
     "output_type": "execute_result"
    }
   ],
   "source": [
    "df.head()"
   ]
  },
  {
   "cell_type": "code",
   "execution_count": 7,
   "metadata": {},
   "outputs": [
    {
     "data": {
      "text/html": [
       "<div>\n",
       "<style scoped>\n",
       "    .dataframe tbody tr th:only-of-type {\n",
       "        vertical-align: middle;\n",
       "    }\n",
       "\n",
       "    .dataframe tbody tr th {\n",
       "        vertical-align: top;\n",
       "    }\n",
       "\n",
       "    .dataframe thead th {\n",
       "        text-align: right;\n",
       "    }\n",
       "</style>\n",
       "<table border=\"1\" class=\"dataframe\">\n",
       "  <thead>\n",
       "    <tr style=\"text-align: right;\">\n",
       "      <th></th>\n",
       "      <th>MPG</th>\n",
       "      <th>Cylinders</th>\n",
       "      <th>Displacement</th>\n",
       "      <th>Horsepower</th>\n",
       "      <th>Weight</th>\n",
       "      <th>Acceleration</th>\n",
       "      <th>Model Year</th>\n",
       "      <th>Origin</th>\n",
       "    </tr>\n",
       "  </thead>\n",
       "  <tbody>\n",
       "    <tr>\n",
       "      <th>393</th>\n",
       "      <td>27.0</td>\n",
       "      <td>4</td>\n",
       "      <td>140.0</td>\n",
       "      <td>86.0</td>\n",
       "      <td>2790.0</td>\n",
       "      <td>15.6</td>\n",
       "      <td>82</td>\n",
       "      <td>1</td>\n",
       "    </tr>\n",
       "    <tr>\n",
       "      <th>394</th>\n",
       "      <td>44.0</td>\n",
       "      <td>4</td>\n",
       "      <td>97.0</td>\n",
       "      <td>52.0</td>\n",
       "      <td>2130.0</td>\n",
       "      <td>24.6</td>\n",
       "      <td>82</td>\n",
       "      <td>2</td>\n",
       "    </tr>\n",
       "    <tr>\n",
       "      <th>395</th>\n",
       "      <td>32.0</td>\n",
       "      <td>4</td>\n",
       "      <td>135.0</td>\n",
       "      <td>84.0</td>\n",
       "      <td>2295.0</td>\n",
       "      <td>11.6</td>\n",
       "      <td>82</td>\n",
       "      <td>1</td>\n",
       "    </tr>\n",
       "    <tr>\n",
       "      <th>396</th>\n",
       "      <td>28.0</td>\n",
       "      <td>4</td>\n",
       "      <td>120.0</td>\n",
       "      <td>79.0</td>\n",
       "      <td>2625.0</td>\n",
       "      <td>18.6</td>\n",
       "      <td>82</td>\n",
       "      <td>1</td>\n",
       "    </tr>\n",
       "    <tr>\n",
       "      <th>397</th>\n",
       "      <td>31.0</td>\n",
       "      <td>4</td>\n",
       "      <td>119.0</td>\n",
       "      <td>82.0</td>\n",
       "      <td>2720.0</td>\n",
       "      <td>19.4</td>\n",
       "      <td>82</td>\n",
       "      <td>1</td>\n",
       "    </tr>\n",
       "  </tbody>\n",
       "</table>\n",
       "</div>"
      ],
      "text/plain": [
       "      MPG  Cylinders  Displacement  Horsepower  Weight  Acceleration  \\\n",
       "393  27.0          4         140.0        86.0  2790.0          15.6   \n",
       "394  44.0          4          97.0        52.0  2130.0          24.6   \n",
       "395  32.0          4         135.0        84.0  2295.0          11.6   \n",
       "396  28.0          4         120.0        79.0  2625.0          18.6   \n",
       "397  31.0          4         119.0        82.0  2720.0          19.4   \n",
       "\n",
       "     Model Year  Origin  \n",
       "393          82       1  \n",
       "394          82       2  \n",
       "395          82       1  \n",
       "396          82       1  \n",
       "397          82       1  "
      ]
     },
     "execution_count": 7,
     "metadata": {},
     "output_type": "execute_result"
    }
   ],
   "source": [
    "df.tail()"
   ]
  },
  {
   "cell_type": "code",
   "execution_count": 8,
   "metadata": {},
   "outputs": [
    {
     "name": "stdout",
     "output_type": "stream",
     "text": [
      "<class 'pandas.core.frame.DataFrame'>\n",
      "RangeIndex: 398 entries, 0 to 397\n",
      "Data columns (total 8 columns):\n",
      " #   Column        Non-Null Count  Dtype  \n",
      "---  ------        --------------  -----  \n",
      " 0   MPG           398 non-null    float64\n",
      " 1   Cylinders     398 non-null    int64  \n",
      " 2   Displacement  398 non-null    float64\n",
      " 3   Horsepower    392 non-null    float64\n",
      " 4   Weight        398 non-null    float64\n",
      " 5   Acceleration  398 non-null    float64\n",
      " 6   Model Year    398 non-null    int64  \n",
      " 7   Origin        398 non-null    int64  \n",
      "dtypes: float64(5), int64(3)\n",
      "memory usage: 25.0 KB\n"
     ]
    }
   ],
   "source": [
    "df.info()"
   ]
  },
  {
   "cell_type": "code",
   "execution_count": 10,
   "metadata": {},
   "outputs": [
    {
     "data": {
      "text/plain": [
       "MPG             0\n",
       "Cylinders       0\n",
       "Displacement    0\n",
       "Horsepower      6\n",
       "Weight          0\n",
       "Acceleration    0\n",
       "Model Year      0\n",
       "Origin          0\n",
       "dtype: int64"
      ]
     },
     "execution_count": 10,
     "metadata": {},
     "output_type": "execute_result"
    }
   ],
   "source": [
    "df.isna().sum()\n"
   ]
  },
  {
   "cell_type": "code",
   "execution_count": 12,
   "metadata": {},
   "outputs": [],
   "source": [
    "df = df.dropna()"
   ]
  },
  {
   "cell_type": "code",
   "execution_count": 14,
   "metadata": {},
   "outputs": [
    {
     "name": "stderr",
     "output_type": "stream",
     "text": [
      "C:\\Users\\marco\\AppData\\Local\\Temp\\ipykernel_30416\\827687960.py:3: SettingWithCopyWarning: \n",
      "A value is trying to be set on a copy of a slice from a DataFrame.\n",
      "Try using .loc[row_indexer,col_indexer] = value instead\n",
      "\n",
      "See the caveats in the documentation: https://pandas.pydata.org/pandas-docs/stable/user_guide/indexing.html#returning-a-view-versus-a-copy\n",
      "  df['Origin'] = df['Origin'].map(origen_map)\n"
     ]
    }
   ],
   "source": [
    "origen_map = {1: 'USA', 2: 'Europa', 3: 'Japon'}\n",
    "\n",
    "df['Origin'] = df['Origin'].map(origen_map)"
   ]
  },
  {
   "cell_type": "code",
   "execution_count": 17,
   "metadata": {},
   "outputs": [
    {
     "data": {
      "text/html": [
       "<div>\n",
       "<style scoped>\n",
       "    .dataframe tbody tr th:only-of-type {\n",
       "        vertical-align: middle;\n",
       "    }\n",
       "\n",
       "    .dataframe tbody tr th {\n",
       "        vertical-align: top;\n",
       "    }\n",
       "\n",
       "    .dataframe thead th {\n",
       "        text-align: right;\n",
       "    }\n",
       "</style>\n",
       "<table border=\"1\" class=\"dataframe\">\n",
       "  <thead>\n",
       "    <tr style=\"text-align: right;\">\n",
       "      <th></th>\n",
       "      <th>MPG</th>\n",
       "      <th>Cylinders</th>\n",
       "      <th>Displacement</th>\n",
       "      <th>Horsepower</th>\n",
       "      <th>Weight</th>\n",
       "      <th>Acceleration</th>\n",
       "      <th>Model Year</th>\n",
       "      <th>Europa</th>\n",
       "      <th>Japon</th>\n",
       "      <th>USA</th>\n",
       "    </tr>\n",
       "  </thead>\n",
       "  <tbody>\n",
       "    <tr>\n",
       "      <th>393</th>\n",
       "      <td>27.0</td>\n",
       "      <td>4</td>\n",
       "      <td>140.0</td>\n",
       "      <td>86.0</td>\n",
       "      <td>2790.0</td>\n",
       "      <td>15.6</td>\n",
       "      <td>82</td>\n",
       "      <td>0</td>\n",
       "      <td>0</td>\n",
       "      <td>1</td>\n",
       "    </tr>\n",
       "    <tr>\n",
       "      <th>394</th>\n",
       "      <td>44.0</td>\n",
       "      <td>4</td>\n",
       "      <td>97.0</td>\n",
       "      <td>52.0</td>\n",
       "      <td>2130.0</td>\n",
       "      <td>24.6</td>\n",
       "      <td>82</td>\n",
       "      <td>1</td>\n",
       "      <td>0</td>\n",
       "      <td>0</td>\n",
       "    </tr>\n",
       "    <tr>\n",
       "      <th>395</th>\n",
       "      <td>32.0</td>\n",
       "      <td>4</td>\n",
       "      <td>135.0</td>\n",
       "      <td>84.0</td>\n",
       "      <td>2295.0</td>\n",
       "      <td>11.6</td>\n",
       "      <td>82</td>\n",
       "      <td>0</td>\n",
       "      <td>0</td>\n",
       "      <td>1</td>\n",
       "    </tr>\n",
       "    <tr>\n",
       "      <th>396</th>\n",
       "      <td>28.0</td>\n",
       "      <td>4</td>\n",
       "      <td>120.0</td>\n",
       "      <td>79.0</td>\n",
       "      <td>2625.0</td>\n",
       "      <td>18.6</td>\n",
       "      <td>82</td>\n",
       "      <td>0</td>\n",
       "      <td>0</td>\n",
       "      <td>1</td>\n",
       "    </tr>\n",
       "    <tr>\n",
       "      <th>397</th>\n",
       "      <td>31.0</td>\n",
       "      <td>4</td>\n",
       "      <td>119.0</td>\n",
       "      <td>82.0</td>\n",
       "      <td>2720.0</td>\n",
       "      <td>19.4</td>\n",
       "      <td>82</td>\n",
       "      <td>0</td>\n",
       "      <td>0</td>\n",
       "      <td>1</td>\n",
       "    </tr>\n",
       "  </tbody>\n",
       "</table>\n",
       "</div>"
      ],
      "text/plain": [
       "      MPG  Cylinders  Displacement  Horsepower  Weight  Acceleration  \\\n",
       "393  27.0          4         140.0        86.0  2790.0          15.6   \n",
       "394  44.0          4          97.0        52.0  2130.0          24.6   \n",
       "395  32.0          4         135.0        84.0  2295.0          11.6   \n",
       "396  28.0          4         120.0        79.0  2625.0          18.6   \n",
       "397  31.0          4         119.0        82.0  2720.0          19.4   \n",
       "\n",
       "     Model Year  Europa  Japon  USA  \n",
       "393          82       0      0    1  \n",
       "394          82       1      0    0  \n",
       "395          82       0      0    1  \n",
       "396          82       0      0    1  \n",
       "397          82       0      0    1  "
      ]
     },
     "execution_count": 17,
     "metadata": {},
     "output_type": "execute_result"
    }
   ],
   "source": [
    "df = pd.get_dummies(df, columns=['Origin'], prefix='', prefix_sep='')\n",
    "df.tail()"
   ]
  },
  {
   "cell_type": "code",
   "execution_count": 18,
   "metadata": {},
   "outputs": [],
   "source": [
    "train = df.sample(frac=0.8, random_state=18)\n",
    "test = df.drop(train.index)"
   ]
  },
  {
   "cell_type": "code",
   "execution_count": 19,
   "metadata": {},
   "outputs": [
    {
     "data": {
      "text/plain": [
       "(314, 10)"
      ]
     },
     "execution_count": 19,
     "metadata": {},
     "output_type": "execute_result"
    }
   ],
   "source": [
    "train.shape"
   ]
  },
  {
   "cell_type": "code",
   "execution_count": 20,
   "metadata": {},
   "outputs": [
    {
     "data": {
      "text/plain": [
       "(78, 10)"
      ]
     },
     "execution_count": 20,
     "metadata": {},
     "output_type": "execute_result"
    }
   ],
   "source": [
    "test.shape"
   ]
  },
  {
   "cell_type": "code",
   "execution_count": 21,
   "metadata": {},
   "outputs": [
    {
     "data": {
      "text/plain": [
       "<seaborn.axisgrid.PairGrid at 0x20166bc73d0>"
      ]
     },
     "execution_count": 21,
     "metadata": {},
     "output_type": "execute_result"
    },
    {
     "data": {
      "image/png": "[encoded data removed]",
      "text/plain": [
       "<Figure size 1000x1000 with 20 Axes>"
      ]
     },
     "metadata": {},
     "output_type": "display_data"
    }
   ],
   "source": [
    "sns.pairplot(train[['MPG', 'Cylinders', 'Displacement', 'Weight']], diag_kind='kde')"
   ]
  },
  {
   "cell_type": "code",
   "execution_count": 22,
   "metadata": {},
   "outputs": [
    {
     "data": {
      "text/html": [
       "<div>\n",
       "<style scoped>\n",
       "    .dataframe tbody tr th:only-of-type {\n",
       "        vertical-align: middle;\n",
       "    }\n",
       "\n",
       "    .dataframe tbody tr th {\n",
       "        vertical-align: top;\n",
       "    }\n",
       "\n",
       "    .dataframe thead th {\n",
       "        text-align: right;\n",
       "    }\n",
       "</style>\n",
       "<table border=\"1\" class=\"dataframe\">\n",
       "  <thead>\n",
       "    <tr style=\"text-align: right;\">\n",
       "      <th></th>\n",
       "      <th>count</th>\n",
       "      <th>mean</th>\n",
       "      <th>std</th>\n",
       "      <th>min</th>\n",
       "      <th>25%</th>\n",
       "      <th>50%</th>\n",
       "      <th>75%</th>\n",
       "      <th>max</th>\n",
       "    </tr>\n",
       "  </thead>\n",
       "  <tbody>\n",
       "    <tr>\n",
       "      <th>MPG</th>\n",
       "      <td>314.0</td>\n",
       "      <td>23.530255</td>\n",
       "      <td>7.584780</td>\n",
       "      <td>9.0</td>\n",
       "      <td>17.50</td>\n",
       "      <td>23.0</td>\n",
       "      <td>29.00</td>\n",
       "      <td>46.6</td>\n",
       "    </tr>\n",
       "    <tr>\n",
       "      <th>Cylinders</th>\n",
       "      <td>314.0</td>\n",
       "      <td>5.420382</td>\n",
       "      <td>1.703698</td>\n",
       "      <td>3.0</td>\n",
       "      <td>4.00</td>\n",
       "      <td>4.0</td>\n",
       "      <td>8.00</td>\n",
       "      <td>8.0</td>\n",
       "    </tr>\n",
       "    <tr>\n",
       "      <th>Displacement</th>\n",
       "      <td>314.0</td>\n",
       "      <td>191.466561</td>\n",
       "      <td>103.994899</td>\n",
       "      <td>68.0</td>\n",
       "      <td>101.75</td>\n",
       "      <td>142.5</td>\n",
       "      <td>261.50</td>\n",
       "      <td>455.0</td>\n",
       "    </tr>\n",
       "    <tr>\n",
       "      <th>Horsepower</th>\n",
       "      <td>314.0</td>\n",
       "      <td>104.273885</td>\n",
       "      <td>38.083247</td>\n",
       "      <td>46.0</td>\n",
       "      <td>75.25</td>\n",
       "      <td>92.5</td>\n",
       "      <td>124.25</td>\n",
       "      <td>230.0</td>\n",
       "    </tr>\n",
       "    <tr>\n",
       "      <th>Weight</th>\n",
       "      <td>314.0</td>\n",
       "      <td>2955.512739</td>\n",
       "      <td>850.902844</td>\n",
       "      <td>1649.0</td>\n",
       "      <td>2220.75</td>\n",
       "      <td>2720.0</td>\n",
       "      <td>3627.50</td>\n",
       "      <td>5140.0</td>\n",
       "    </tr>\n",
       "    <tr>\n",
       "      <th>Acceleration</th>\n",
       "      <td>314.0</td>\n",
       "      <td>15.441083</td>\n",
       "      <td>2.683924</td>\n",
       "      <td>8.5</td>\n",
       "      <td>13.60</td>\n",
       "      <td>15.4</td>\n",
       "      <td>17.00</td>\n",
       "      <td>24.8</td>\n",
       "    </tr>\n",
       "    <tr>\n",
       "      <th>Model Year</th>\n",
       "      <td>314.0</td>\n",
       "      <td>75.952229</td>\n",
       "      <td>3.722946</td>\n",
       "      <td>70.0</td>\n",
       "      <td>73.00</td>\n",
       "      <td>76.0</td>\n",
       "      <td>79.00</td>\n",
       "      <td>82.0</td>\n",
       "    </tr>\n",
       "    <tr>\n",
       "      <th>Europa</th>\n",
       "      <td>314.0</td>\n",
       "      <td>0.165605</td>\n",
       "      <td>0.372319</td>\n",
       "      <td>0.0</td>\n",
       "      <td>0.00</td>\n",
       "      <td>0.0</td>\n",
       "      <td>0.00</td>\n",
       "      <td>1.0</td>\n",
       "    </tr>\n",
       "    <tr>\n",
       "      <th>Japon</th>\n",
       "      <td>314.0</td>\n",
       "      <td>0.216561</td>\n",
       "      <td>0.412558</td>\n",
       "      <td>0.0</td>\n",
       "      <td>0.00</td>\n",
       "      <td>0.0</td>\n",
       "      <td>0.00</td>\n",
       "      <td>1.0</td>\n",
       "    </tr>\n",
       "    <tr>\n",
       "      <th>USA</th>\n",
       "      <td>314.0</td>\n",
       "      <td>0.617834</td>\n",
       "      <td>0.486692</td>\n",
       "      <td>0.0</td>\n",
       "      <td>0.00</td>\n",
       "      <td>1.0</td>\n",
       "      <td>1.00</td>\n",
       "      <td>1.0</td>\n",
       "    </tr>\n",
       "  </tbody>\n",
       "</table>\n",
       "</div>"
      ],
      "text/plain": [
       "              count         mean         std     min      25%     50%  \\\n",
       "MPG           314.0    23.530255    7.584780     9.0    17.50    23.0   \n",
       "Cylinders     314.0     5.420382    1.703698     3.0     4.00     4.0   \n",
       "Displacement  314.0   191.466561  103.994899    68.0   101.75   142.5   \n",
       "Horsepower    314.0   104.273885   38.083247    46.0    75.25    92.5   \n",
       "Weight        314.0  2955.512739  850.902844  1649.0  2220.75  2720.0   \n",
       "Acceleration  314.0    15.441083    2.683924     8.5    13.60    15.4   \n",
       "Model Year    314.0    75.952229    3.722946    70.0    73.00    76.0   \n",
       "Europa        314.0     0.165605    0.372319     0.0     0.00     0.0   \n",
       "Japon         314.0     0.216561    0.412558     0.0     0.00     0.0   \n",
       "USA           314.0     0.617834    0.486692     0.0     0.00     1.0   \n",
       "\n",
       "                  75%     max  \n",
       "MPG             29.00    46.6  \n",
       "Cylinders        8.00     8.0  \n",
       "Displacement   261.50   455.0  \n",
       "Horsepower     124.25   230.0  \n",
       "Weight        3627.50  5140.0  \n",
       "Acceleration    17.00    24.8  \n",
       "Model Year      79.00    82.0  \n",
       "Europa           0.00     1.0  \n",
       "Japon            0.00     1.0  \n",
       "USA              1.00     1.0  "
      ]
     },
     "execution_count": 22,
     "metadata": {},
     "output_type": "execute_result"
    }
   ],
   "source": [
    "train.describe().transpose()"
   ]
  },
  {
   "cell_type": "code",
   "execution_count": 27,
   "metadata": {},
   "outputs": [],
   "source": [
    "train_features = train.copy()\n",
    "test_features = test.copy()\n",
    "\n",
    "train_labels = train_features.pop('MPG')\n",
    "test_labels = test_features.pop('MPG')"
   ]
  },
  {
   "cell_type": "code",
   "execution_count": 30,
   "metadata": {},
   "outputs": [
    {
     "data": {
      "text/html": [
       "<div>\n",
       "<style scoped>\n",
       "    .dataframe tbody tr th:only-of-type {\n",
       "        vertical-align: middle;\n",
       "    }\n",
       "\n",
       "    .dataframe tbody tr th {\n",
       "        vertical-align: top;\n",
       "    }\n",
       "\n",
       "    .dataframe thead th {\n",
       "        text-align: right;\n",
       "    }\n",
       "</style>\n",
       "<table border=\"1\" class=\"dataframe\">\n",
       "  <thead>\n",
       "    <tr style=\"text-align: right;\">\n",
       "      <th></th>\n",
       "      <th>MPG</th>\n",
       "      <th>Cylinders</th>\n",
       "      <th>Displacement</th>\n",
       "      <th>Horsepower</th>\n",
       "      <th>Weight</th>\n",
       "      <th>Acceleration</th>\n",
       "      <th>Model Year</th>\n",
       "      <th>Europa</th>\n",
       "      <th>Japon</th>\n",
       "      <th>USA</th>\n",
       "    </tr>\n",
       "  </thead>\n",
       "  <tbody>\n",
       "    <tr>\n",
       "      <th>0</th>\n",
       "      <td>18.0</td>\n",
       "      <td>8</td>\n",
       "      <td>307.0</td>\n",
       "      <td>130.0</td>\n",
       "      <td>3504.0</td>\n",
       "      <td>12.0</td>\n",
       "      <td>70</td>\n",
       "      <td>0</td>\n",
       "      <td>0</td>\n",
       "      <td>1</td>\n",
       "    </tr>\n",
       "    <tr>\n",
       "      <th>1</th>\n",
       "      <td>15.0</td>\n",
       "      <td>8</td>\n",
       "      <td>350.0</td>\n",
       "      <td>165.0</td>\n",
       "      <td>3693.0</td>\n",
       "      <td>11.5</td>\n",
       "      <td>70</td>\n",
       "      <td>0</td>\n",
       "      <td>0</td>\n",
       "      <td>1</td>\n",
       "    </tr>\n",
       "    <tr>\n",
       "      <th>2</th>\n",
       "      <td>18.0</td>\n",
       "      <td>8</td>\n",
       "      <td>318.0</td>\n",
       "      <td>150.0</td>\n",
       "      <td>3436.0</td>\n",
       "      <td>11.0</td>\n",
       "      <td>70</td>\n",
       "      <td>0</td>\n",
       "      <td>0</td>\n",
       "      <td>1</td>\n",
       "    </tr>\n",
       "    <tr>\n",
       "      <th>3</th>\n",
       "      <td>16.0</td>\n",
       "      <td>8</td>\n",
       "      <td>304.0</td>\n",
       "      <td>150.0</td>\n",
       "      <td>3433.0</td>\n",
       "      <td>12.0</td>\n",
       "      <td>70</td>\n",
       "      <td>0</td>\n",
       "      <td>0</td>\n",
       "      <td>1</td>\n",
       "    </tr>\n",
       "    <tr>\n",
       "      <th>4</th>\n",
       "      <td>17.0</td>\n",
       "      <td>8</td>\n",
       "      <td>302.0</td>\n",
       "      <td>140.0</td>\n",
       "      <td>3449.0</td>\n",
       "      <td>10.5</td>\n",
       "      <td>70</td>\n",
       "      <td>0</td>\n",
       "      <td>0</td>\n",
       "      <td>1</td>\n",
       "    </tr>\n",
       "    <tr>\n",
       "      <th>...</th>\n",
       "      <td>...</td>\n",
       "      <td>...</td>\n",
       "      <td>...</td>\n",
       "      <td>...</td>\n",
       "      <td>...</td>\n",
       "      <td>...</td>\n",
       "      <td>...</td>\n",
       "      <td>...</td>\n",
       "      <td>...</td>\n",
       "      <td>...</td>\n",
       "    </tr>\n",
       "    <tr>\n",
       "      <th>393</th>\n",
       "      <td>27.0</td>\n",
       "      <td>4</td>\n",
       "      <td>140.0</td>\n",
       "      <td>86.0</td>\n",
       "      <td>2790.0</td>\n",
       "      <td>15.6</td>\n",
       "      <td>82</td>\n",
       "      <td>0</td>\n",
       "      <td>0</td>\n",
       "      <td>1</td>\n",
       "    </tr>\n",
       "    <tr>\n",
       "      <th>394</th>\n",
       "      <td>44.0</td>\n",
       "      <td>4</td>\n",
       "      <td>97.0</td>\n",
       "      <td>52.0</td>\n",
       "      <td>2130.0</td>\n",
       "      <td>24.6</td>\n",
       "      <td>82</td>\n",
       "      <td>1</td>\n",
       "      <td>0</td>\n",
       "      <td>0</td>\n",
       "    </tr>\n",
       "    <tr>\n",
       "      <th>395</th>\n",
       "      <td>32.0</td>\n",
       "      <td>4</td>\n",
       "      <td>135.0</td>\n",
       "      <td>84.0</td>\n",
       "      <td>2295.0</td>\n",
       "      <td>11.6</td>\n",
       "      <td>82</td>\n",
       "      <td>0</td>\n",
       "      <td>0</td>\n",
       "      <td>1</td>\n",
       "    </tr>\n",
       "    <tr>\n",
       "      <th>396</th>\n",
       "      <td>28.0</td>\n",
       "      <td>4</td>\n",
       "      <td>120.0</td>\n",
       "      <td>79.0</td>\n",
       "      <td>2625.0</td>\n",
       "      <td>18.6</td>\n",
       "      <td>82</td>\n",
       "      <td>0</td>\n",
       "      <td>0</td>\n",
       "      <td>1</td>\n",
       "    </tr>\n",
       "    <tr>\n",
       "      <th>397</th>\n",
       "      <td>31.0</td>\n",
       "      <td>4</td>\n",
       "      <td>119.0</td>\n",
       "      <td>82.0</td>\n",
       "      <td>2720.0</td>\n",
       "      <td>19.4</td>\n",
       "      <td>82</td>\n",
       "      <td>0</td>\n",
       "      <td>0</td>\n",
       "      <td>1</td>\n",
       "    </tr>\n",
       "  </tbody>\n",
       "</table>\n",
       "<p>392 rows × 10 columns</p>\n",
       "</div>"
      ],
      "text/plain": [
       "      MPG  Cylinders  Displacement  Horsepower  Weight  Acceleration  \\\n",
       "0    18.0          8         307.0       130.0  3504.0          12.0   \n",
       "1    15.0          8         350.0       165.0  3693.0          11.5   \n",
       "2    18.0          8         318.0       150.0  3436.0          11.0   \n",
       "3    16.0          8         304.0       150.0  3433.0          12.0   \n",
       "4    17.0          8         302.0       140.0  3449.0          10.5   \n",
       "..    ...        ...           ...         ...     ...           ...   \n",
       "393  27.0          4         140.0        86.0  2790.0          15.6   \n",
       "394  44.0          4          97.0        52.0  2130.0          24.6   \n",
       "395  32.0          4         135.0        84.0  2295.0          11.6   \n",
       "396  28.0          4         120.0        79.0  2625.0          18.6   \n",
       "397  31.0          4         119.0        82.0  2720.0          19.4   \n",
       "\n",
       "     Model Year  Europa  Japon  USA  \n",
       "0            70       0      0    1  \n",
       "1            70       0      0    1  \n",
       "2            70       0      0    1  \n",
       "3            70       0      0    1  \n",
       "4            70       0      0    1  \n",
       "..          ...     ...    ...  ...  \n",
       "393          82       0      0    1  \n",
       "394          82       1      0    0  \n",
       "395          82       0      0    1  \n",
       "396          82       0      0    1  \n",
       "397          82       0      0    1  \n",
       "\n",
       "[392 rows x 10 columns]"
      ]
     },
     "execution_count": 30,
     "metadata": {},
     "output_type": "execute_result"
    }
   ],
   "source": [
    "df"
   ]
  },
  {
   "cell_type": "markdown",
   "metadata": {},
   "source": [
    "### StandarScaler\n",
    "\n",
    "$ z = \\frac{x - \\mu}{\\sigma} $"
   ]
  },
  {
   "cell_type": "code",
   "execution_count": 35,
   "metadata": {},
   "outputs": [
    {
     "name": "stdout",
     "output_type": "stream",
     "text": [
      "[[-0.83503617 -0.80388354 -0.27020501 ... -0.4455034   1.90201132\n",
      "  -1.27148207]\n",
      " [-0.83503617 -0.77498993 -0.6384075  ... -0.4455034  -0.52575923\n",
      "   0.78648376]\n",
      " [-0.83503617 -0.90982679 -0.42800608 ... -0.4455034   1.90201132\n",
      "  -1.27148207]\n",
      " ...\n",
      " [ 0.34075467  0.679322   -0.50690661 ... -0.4455034  -0.52575923\n",
      "   0.78648376]\n",
      " [ 1.5165455   1.11272622  0.67660139 ... -0.4455034  -0.52575923\n",
      "   0.78648376]\n",
      " [-0.83503617 -0.38974173 -0.37540572 ... -0.4455034  -0.52575923\n",
      "   0.78648376]]\n"
     ]
    }
   ],
   "source": [
    "# standar scaler\n",
    "scaler = StandardScaler()\n",
    "\n",
    "scaler.fit(train_features)\n",
    "\n",
    "# print(scaler.mean_)\n",
    "\n",
    "print(scaler.transform(train_features))"
   ]
  },
  {
   "cell_type": "markdown",
   "metadata": {},
   "source": [
    "### MinMaxScaler\n",
    "\n",
    "$ z = \\frac{x - min(x)}{max(x) - min(x)} $"
   ]
  },
  {
   "cell_type": "code",
   "execution_count": 37,
   "metadata": {},
   "outputs": [
    {
     "name": "stdout",
     "output_type": "stream",
     "text": [
      "[[0.2        0.10335917 0.26086957 ... 0.         1.         0.        ]\n",
      " [0.2        0.11111111 0.18478261 ... 0.         0.         1.        ]\n",
      " [0.2        0.0749354  0.22826087 ... 0.         1.         0.        ]\n",
      " ...\n",
      " [0.6        0.50129199 0.21195652 ... 0.         0.         1.        ]\n",
      " [1.         0.61757106 0.45652174 ... 0.         0.         1.        ]\n",
      " [0.2        0.21447028 0.23913043 ... 0.         0.         1.        ]]\n"
     ]
    }
   ],
   "source": [
    "minmax = MinMaxScaler()\n",
    "\n",
    "minmax.fit(train_features)\n",
    "\n",
    "print(minmax.transform(train_features))"
   ]
  },
  {
   "cell_type": "markdown",
   "metadata": {},
   "source": [
    "### Normalizer\n",
    "\n"
   ]
  },
  {
   "cell_type": "code",
   "execution_count": 84,
   "metadata": {},
   "outputs": [
    {
     "name": "stdout",
     "output_type": "stream",
     "text": [
      "[[0.00167751 0.04529284 0.03942154 ... 0.         0.00041938 0.        ]\n",
      " [0.0018512  0.05137066 0.0370239  ... 0.         0.         0.0004628 ]\n",
      " [0.00187334 0.0454285  0.04121348 ... 0.         0.00046834 0.        ]\n",
      " ...\n",
      " [0.00198103 0.08650519 0.02806466 ... 0.         0.         0.00033017]\n",
      " [0.00194543 0.07465588 0.03161324 ... 0.         0.         0.00024318]\n",
      " [0.00145883 0.05507066 0.03282357 ... 0.         0.         0.00036471]]\n"
     ]
    },
    {
     "name": "stderr",
     "output_type": "stream",
     "text": [
      "c:\\Users\\marco\\anaconda3\\envs\\mii-dl2\\lib\\site-packages\\sklearn\\base.py:443: UserWarning: X has feature names, but Normalizer was fitted without feature names\n",
      "  warnings.warn(\n"
     ]
    }
   ],
   "source": [
    "# normalizer = Normalizer()\n",
    "\n",
    "# normalizer.fit(train_features)\n",
    "\n",
    "# print(normalizer.transform(train_features))\n",
    "\n",
    "# train_features = normalizer.transform(train_features)\n",
    "\n",
    "# test_features = normalizer.transform(test_features)"
   ]
  },
  {
   "cell_type": "code",
   "execution_count": 101,
   "metadata": {},
   "outputs": [
    {
     "name": "stdout",
     "output_type": "stream",
     "text": [
      "[[0.41740489 0.21088115 0.5740174  ... 0.         0.6933636  0.        ]\n",
      " [0.54317819 0.28893795 0.50118827 ... 0.         0.         0.83563934]\n",
      " [0.55921456 0.2126234  0.62844807 ... 0.         0.77430469 0.        ]\n",
      " ...\n",
      " [0.63720251 0.74016646 0.22904844 ... 0.         0.         0.5961665 ]\n",
      " [0.61141905 0.58798717 0.33683764 ... 0.         0.         0.43908877]\n",
      " [0.25904135 0.33645653 0.37360185 ... 0.         0.         0.65852156]]\n"
     ]
    }
   ],
   "source": [
    "normalizer = MinMaxScaler()\n",
    "\n",
    "normalizer.fit(train_features)\n",
    "\n",
    "print(normalizer.transform(train_features))\n",
    "\n",
    "train_features = normalizer.transform(train_features)\n",
    "\n",
    "test_features = normalizer.transform(test_features)"
   ]
  },
  {
   "cell_type": "code",
   "execution_count": 102,
   "metadata": {},
   "outputs": [
    {
     "data": {
      "text/html": [
       "<div>\n",
       "<style scoped>\n",
       "    .dataframe tbody tr th:only-of-type {\n",
       "        vertical-align: middle;\n",
       "    }\n",
       "\n",
       "    .dataframe tbody tr th {\n",
       "        vertical-align: top;\n",
       "    }\n",
       "\n",
       "    .dataframe thead th {\n",
       "        text-align: right;\n",
       "    }\n",
       "</style>\n",
       "<table border=\"1\" class=\"dataframe\">\n",
       "  <thead>\n",
       "    <tr style=\"text-align: right;\">\n",
       "      <th></th>\n",
       "      <th>mean</th>\n",
       "      <th>std</th>\n",
       "    </tr>\n",
       "  </thead>\n",
       "  <tbody>\n",
       "    <tr>\n",
       "      <th>MPG</th>\n",
       "      <td>23.530255</td>\n",
       "      <td>7.584780</td>\n",
       "    </tr>\n",
       "    <tr>\n",
       "      <th>Cylinders</th>\n",
       "      <td>5.420382</td>\n",
       "      <td>1.703698</td>\n",
       "    </tr>\n",
       "    <tr>\n",
       "      <th>Displacement</th>\n",
       "      <td>191.466561</td>\n",
       "      <td>103.994899</td>\n",
       "    </tr>\n",
       "    <tr>\n",
       "      <th>Horsepower</th>\n",
       "      <td>104.273885</td>\n",
       "      <td>38.083247</td>\n",
       "    </tr>\n",
       "    <tr>\n",
       "      <th>Weight</th>\n",
       "      <td>2955.512739</td>\n",
       "      <td>850.902844</td>\n",
       "    </tr>\n",
       "    <tr>\n",
       "      <th>Acceleration</th>\n",
       "      <td>15.441083</td>\n",
       "      <td>2.683924</td>\n",
       "    </tr>\n",
       "    <tr>\n",
       "      <th>Model Year</th>\n",
       "      <td>75.952229</td>\n",
       "      <td>3.722946</td>\n",
       "    </tr>\n",
       "    <tr>\n",
       "      <th>Europa</th>\n",
       "      <td>0.165605</td>\n",
       "      <td>0.372319</td>\n",
       "    </tr>\n",
       "    <tr>\n",
       "      <th>Japon</th>\n",
       "      <td>0.216561</td>\n",
       "      <td>0.412558</td>\n",
       "    </tr>\n",
       "    <tr>\n",
       "      <th>USA</th>\n",
       "      <td>0.617834</td>\n",
       "      <td>0.486692</td>\n",
       "    </tr>\n",
       "  </tbody>\n",
       "</table>\n",
       "</div>"
      ],
      "text/plain": [
       "                     mean         std\n",
       "MPG             23.530255    7.584780\n",
       "Cylinders        5.420382    1.703698\n",
       "Displacement   191.466561  103.994899\n",
       "Horsepower     104.273885   38.083247\n",
       "Weight        2955.512739  850.902844\n",
       "Acceleration    15.441083    2.683924\n",
       "Model Year      75.952229    3.722946\n",
       "Europa           0.165605    0.372319\n",
       "Japon            0.216561    0.412558\n",
       "USA              0.617834    0.486692"
      ]
     },
     "execution_count": 102,
     "metadata": {},
     "output_type": "execute_result"
    }
   ],
   "source": [
    "train.describe().transpose()[['mean', 'std']]\n"
   ]
  },
  {
   "cell_type": "code",
   "execution_count": 103,
   "metadata": {},
   "outputs": [
    {
     "name": "stdout",
     "output_type": "stream",
     "text": [
      "Model: \"model_9\"\n",
      "_________________________________________________________________\n",
      " Layer (type)                Output Shape              Param #   \n",
      "=================================================================\n",
      " input_11 (InputLayer)       [(None, 9)]               0         \n",
      "                                                                 \n",
      " dense_27 (Dense)            (None, 1)                 10        \n",
      "                                                                 \n",
      "=================================================================\n",
      "Total params: 10\n",
      "Trainable params: 10\n",
      "Non-trainable params: 0\n",
      "_________________________________________________________________\n"
     ]
    }
   ],
   "source": [
    "inputs = keras.Input(shape=(9,))\n",
    "outputs = layers.Dense(units=1)(inputs)\n",
    "reg_model = tf.keras.Model(inputs, outputs)\n",
    "\n",
    "reg_model.summary()"
   ]
  },
  {
   "cell_type": "code",
   "execution_count": 104,
   "metadata": {},
   "outputs": [],
   "source": [
    "reg_model.compile(\n",
    "    optimizer=tf.optimizers.Adam(learning_rate=0.1), \n",
    "    loss=\"mean_squared_error\"\n",
    "    )"
   ]
  },
  {
   "cell_type": "code",
   "execution_count": 105,
   "metadata": {},
   "outputs": [
    {
     "name": "stderr",
     "output_type": "stream",
     "text": [
      "c:\\Users\\marco\\anaconda3\\envs\\mii-dl2\\lib\\site-packages\\keras\\engine\\data_adapter.py:1699: FutureWarning: The behavior of `series[i:j]` with an integer-dtype index is deprecated. In a future version, this will be treated as *label-based* indexing, consistent with e.g. `series[i]` lookups. To retain the old behavior, use `series.iloc[i:j]`. To get the future behavior, use `series.loc[i:j]`.\n",
      "  return t[start:end]\n"
     ]
    }
   ],
   "source": [
    "history = reg_model.fit(train_features, train_labels, epochs=500, validation_split=0.2, verbose=0)"
   ]
  },
  {
   "cell_type": "code",
   "execution_count": 106,
   "metadata": {},
   "outputs": [
    {
     "data": {
      "image/png": "[encoded data removed]",
      "text/plain": [
       "<Figure size 640x480 with 1 Axes>"
      ]
     },
     "metadata": {},
     "output_type": "display_data"
    }
   ],
   "source": [
    "plot_loss(history)"
   ]
  },
  {
   "cell_type": "code",
   "execution_count": 107,
   "metadata": {},
   "outputs": [
    {
     "name": "stdout",
     "output_type": "stream",
     "text": [
      "3/3 - 0s - loss: 16.2174 - 98ms/epoch - 33ms/step\n"
     ]
    },
    {
     "data": {
      "text/plain": [
       "16.21744728088379"
      ]
     },
     "execution_count": 107,
     "metadata": {},
     "output_type": "execute_result"
    }
   ],
   "source": [
    "reg_model.evaluate(test_features, test_labels, verbose=2)"
   ]
  },
  {
   "cell_type": "code",
   "execution_count": 115,
   "metadata": {},
   "outputs": [
    {
     "name": "stdout",
     "output_type": "stream",
     "text": [
      "Model: \"model_11\"\n",
      "_________________________________________________________________\n",
      " Layer (type)                Output Shape              Param #   \n",
      "=================================================================\n",
      " input_13 (InputLayer)       [(None, 9)]               0         \n",
      "                                                                 \n",
      " dense_34 (Dense)            (None, 64)                640       \n",
      "                                                                 \n",
      " dense_35 (Dense)            (None, 64)                4160      \n",
      "                                                                 \n",
      " dense_36 (Dense)            (None, 1)                 65        \n",
      "                                                                 \n",
      "=================================================================\n",
      "Total params: 4,865\n",
      "Trainable params: 4,865\n",
      "Non-trainable params: 0\n",
      "_________________________________________________________________\n"
     ]
    }
   ],
   "source": [
    "inputs = keras.Input(shape=(9,))\n",
    "x = layers.Dense(64, activation='relu')(inputs)\n",
    "x = layers.Dense(64, activation='relu')(x)\n",
    "# x = layers.Dense(64, activation='relu')(x)\n",
    "# x = layers.Dense(64, activation='relu')(x)\n",
    "# x = layers.Dense(64, activation='relu')(x)\n",
    "outputs = layers.Dense(1)(x)\n",
    "reg_model = tf.keras.Model(inputs, outputs)\n",
    "\n",
    "reg_model.summary()"
   ]
  },
  {
   "cell_type": "code",
   "execution_count": 116,
   "metadata": {},
   "outputs": [],
   "source": [
    "reg_model.compile(\n",
    "    optimizer=tf.optimizers.Adam(learning_rate=0.1), \n",
    "    loss=\"mean_squared_error\"\n",
    "    )"
   ]
  },
  {
   "cell_type": "code",
   "execution_count": 117,
   "metadata": {},
   "outputs": [],
   "source": [
    "history = reg_model.fit(train_features, train_labels, epochs=100, validation_split=0.2, verbose=0)"
   ]
  },
  {
   "cell_type": "code",
   "execution_count": 118,
   "metadata": {},
   "outputs": [
    {
     "data": {
      "image/png": "[encoded data removed]",
      "text/plain": [
       "<Figure size 640x480 with 1 Axes>"
      ]
     },
     "metadata": {},
     "output_type": "display_data"
    }
   ],
   "source": [
    "plot_loss(history)"
   ]
  },
  {
   "cell_type": "code",
   "execution_count": 119,
   "metadata": {},
   "outputs": [
    {
     "name": "stdout",
     "output_type": "stream",
     "text": [
      "3/3 - 0s - loss: 22.8945 - 173ms/epoch - 58ms/step\n"
     ]
    },
    {
     "data": {
      "text/plain": [
       "22.89447784423828"
      ]
     },
     "execution_count": 119,
     "metadata": {},
     "output_type": "execute_result"
    }
   ],
   "source": [
    "reg_model.evaluate(test_features, test_labels, verbose=2)"
   ]
  },
  {
   "cell_type": "code",
   "execution_count": 120,
   "metadata": {},
   "outputs": [
    {
     "name": "stdout",
     "output_type": "stream",
     "text": [
      "3/3 [==============================] - 0s 3ms/step\n"
     ]
    }
   ],
   "source": [
    "test_predictions = reg_model.predict(test_features).flatten()"
   ]
  },
  {
   "cell_type": "code",
   "execution_count": 122,
   "metadata": {},
   "outputs": [
    {
     "data": {
      "text/plain": [
       "array([[2.20434110e-03, 9.36844968e-02, 4.40868220e-02, 9.94433380e-01,\n",
       "        2.20434110e-03, 1.92879846e-02, 0.00000000e+00, 0.00000000e+00,\n",
       "        2.75542638e-04],\n",
       "       [2.55731908e-03, 1.45447522e-01, 7.19245990e-02, 9.86485834e-01,\n",
       "        3.19664885e-03, 2.23765419e-02, 0.00000000e+00, 0.00000000e+00,\n",
       "        3.19664885e-04],\n",
       "       [1.68231845e-03, 4.75254961e-02, 3.99550631e-02, 9.97614839e-01,\n",
       "        6.30869417e-03, 2.94405728e-02, 0.00000000e+00, 4.20579612e-04,\n",
       "        0.00000000e+00],\n",
       "       [2.11088469e-03, 6.96591949e-02, 3.34223410e-02, 9.96689389e-01,\n",
       "        5.45311879e-03, 2.46269881e-02, 0.00000000e+00, 0.00000000e+00,\n",
       "        3.51814116e-04],\n",
       "       [1.49440313e-03, 4.10960860e-02, 3.25032680e-02, 9.98261289e-01,\n",
       "        6.53801368e-03, 2.61520547e-02, 3.73600782e-04, 0.00000000e+00,\n",
       "        0.00000000e+00],\n",
       "       [1.81081666e-03, 7.54506941e-02, 2.65586443e-02, 9.96552768e-01,\n",
       "        4.67794303e-03, 2.14279971e-02, 0.00000000e+00, 0.00000000e+00,\n",
       "        3.01802776e-04],\n",
       "       [2.47257893e-03, 4.45064208e-02, 4.26519866e-02, 9.97067454e-01,\n",
       "        1.11266052e-02, 4.38882760e-02, 0.00000000e+00, 6.18144733e-04,\n",
       "        0.00000000e+00],\n",
       "       [1.65638283e-03, 5.79733989e-02, 3.72686136e-02, 9.97142462e-01,\n",
       "        8.07486628e-03, 2.98148909e-02, 0.00000000e+00, 0.00000000e+00,\n",
       "        4.14095707e-04],\n",
       "       [1.92893378e-03, 8.46319694e-02, 3.68908585e-02, 9.95570945e-01,\n",
       "        3.13451739e-03, 1.73604040e-02, 0.00000000e+00, 0.00000000e+00,\n",
       "        2.41116722e-04],\n",
       "       [1.71745948e-03, 9.20987646e-02, 4.46539465e-02, 9.94623721e-01,\n",
       "        2.36150679e-03, 1.54571353e-02, 0.00000000e+00, 0.00000000e+00,\n",
       "        2.14682435e-04],\n",
       "       [1.78843114e-03, 7.82438625e-02, 3.57686229e-02, 9.96156147e-01,\n",
       "        3.01797756e-03, 1.60958803e-02, 0.00000000e+00, 0.00000000e+00,\n",
       "        2.23553893e-04],\n",
       "       [1.36121484e-03, 4.11767490e-02, 3.81140156e-02, 9.98110785e-01,\n",
       "        4.93440381e-03, 2.45018672e-02, 3.40303711e-04, 0.00000000e+00,\n",
       "        0.00000000e+00],\n",
       "       [1.66612266e-03, 5.08167412e-02, 3.58216372e-02, 9.97590944e-01,\n",
       "        6.66449065e-03, 2.99902079e-02, 0.00000000e+00, 0.00000000e+00,\n",
       "        4.16530666e-04],\n",
       "       [1.94207436e-03, 8.49657533e-02, 4.24828766e-02, 9.95313110e-01,\n",
       "        3.15587084e-03, 1.77214285e-02, 0.00000000e+00, 0.00000000e+00,\n",
       "        2.42759295e-04],\n",
       "       [1.60802557e-03, 8.62303715e-02, 3.97986330e-02, 9.95367831e-01,\n",
       "        2.31153676e-03, 1.46732334e-02, 0.00000000e+00, 0.00000000e+00,\n",
       "        2.01003197e-04],\n",
       "       [1.68037694e-03, 9.24207315e-02, 4.51601302e-02, 9.94573100e-01,\n",
       "        2.31051829e-03, 1.53334395e-02, 0.00000000e+00, 0.00000000e+00,\n",
       "        2.10047117e-04],\n",
       "       [1.97789170e-03, 8.24121542e-02, 2.90090783e-02, 9.95868471e-01,\n",
       "        5.43920218e-03, 2.40643490e-02, 0.00000000e+00, 0.00000000e+00,\n",
       "        3.29648617e-04],\n",
       "       [2.05955045e-03, 6.79651649e-02, 3.26095488e-02, 9.96822419e-01,\n",
       "        5.49213454e-03, 2.50578638e-02, 0.00000000e+00, 0.00000000e+00,\n",
       "        3.43258409e-04],\n",
       "       [2.04662840e-03, 4.96307388e-02, 2.35362266e-02, 9.97731346e-01,\n",
       "        1.07447991e-02, 3.73509684e-02, 5.11657101e-04, 0.00000000e+00,\n",
       "        0.00000000e+00],\n",
       "       [1.71247803e-03, 7.70615115e-02, 3.63901582e-02, 9.96234096e-01,\n",
       "        2.78277680e-03, 1.56263621e-02, 0.00000000e+00, 0.00000000e+00,\n",
       "        2.14059754e-04],\n",
       "       [2.14177342e-03, 8.28152388e-02, 3.56962236e-02, 9.95567677e-01,\n",
       "        5.35443354e-03, 2.60582432e-02, 0.00000000e+00, 0.00000000e+00,\n",
       "        3.56962236e-04],\n",
       "       [1.72710908e-03, 5.26768268e-02, 3.67010679e-02, 9.97405491e-01,\n",
       "        7.98787948e-03, 3.15197406e-02, 0.00000000e+00, 0.00000000e+00,\n",
       "        4.31777269e-04],\n",
       "       [1.95111436e-03, 8.53612531e-02, 3.53639477e-02, 9.95556101e-01,\n",
       "        3.17056083e-03, 1.78039185e-02, 0.00000000e+00, 0.00000000e+00,\n",
       "        2.43889295e-04],\n",
       "       [2.34058850e-03, 9.30383927e-02, 4.38860343e-02, 9.94457537e-01,\n",
       "        3.21830918e-03, 2.13578700e-02, 0.00000000e+00, 0.00000000e+00,\n",
       "        2.92573562e-04],\n",
       "       [1.92882992e-03, 6.36513874e-02, 3.05398071e-02, 9.97205069e-01,\n",
       "        5.30428228e-03, 2.37889024e-02, 0.00000000e+00, 0.00000000e+00,\n",
       "        3.21471654e-04],\n",
       "       [2.17375382e-03, 3.85841303e-02, 3.53234996e-02, 9.97753003e-01,\n",
       "        1.14122075e-02, 4.02144456e-02, 0.00000000e+00, 5.43438455e-04,\n",
       "        0.00000000e+00],\n",
       "       [1.65639687e-03, 6.21148828e-02, 2.89869453e-02, 9.97426985e-01,\n",
       "        4.55509141e-03, 2.04288948e-02, 0.00000000e+00, 0.00000000e+00,\n",
       "        2.76066146e-04],\n",
       "       [1.87303062e-03, 7.11751637e-02, 3.51193242e-02, 9.96686421e-01,\n",
       "        3.62899684e-03, 1.73255333e-02, 0.00000000e+00, 0.00000000e+00,\n",
       "        2.34128828e-04],\n",
       "       [1.79855329e-03, 4.40645555e-02, 3.73199807e-02, 9.97747436e-01,\n",
       "        7.41903231e-03, 3.32732358e-02, 4.49638322e-04, 0.00000000e+00,\n",
       "        0.00000000e+00],\n",
       "       [1.77658747e-03, 5.15210366e-02, 3.33110150e-02, 9.97553863e-01,\n",
       "        6.21805614e-03, 3.28668682e-02, 4.44146867e-04, 0.00000000e+00,\n",
       "        0.00000000e+00],\n",
       "       [1.74280140e-03, 7.26167248e-02, 2.09136167e-02, 9.96882398e-01,\n",
       "        6.09980488e-03, 2.17850174e-02, 0.00000000e+00, 0.00000000e+00,\n",
       "        2.90466899e-04],\n",
       "       [1.79501237e-03, 7.85317911e-02, 3.25345992e-02, 9.96231865e-01,\n",
       "        3.14127164e-03, 1.68282410e-02, 0.00000000e+00, 0.00000000e+00,\n",
       "        2.24376546e-04],\n",
       "       [1.77290229e-03, 7.04728661e-02, 3.32419180e-02, 9.96814314e-01,\n",
       "        3.21338540e-03, 1.66209590e-02, 0.00000000e+00, 0.00000000e+00,\n",
       "        2.21612786e-04],\n",
       "       [2.51028777e-03, 9.47633632e-02, 4.04783902e-02, 9.94387741e-01,\n",
       "        3.76543165e-03, 2.35339478e-02, 0.00000000e+00, 0.00000000e+00,\n",
       "        3.13785971e-04],\n",
       "       [1.86245647e-03, 7.20149836e-02, 2.79368471e-02, 9.96724622e-01,\n",
       "        5.27696000e-03, 2.32807059e-02, 0.00000000e+00, 0.00000000e+00,\n",
       "        3.10409412e-04],\n",
       "       [1.48191321e-03, 4.26050048e-02, 3.51954387e-02, 9.98068547e-01,\n",
       "        5.55717454e-03, 2.77858727e-02, 3.70478303e-04, 0.00000000e+00,\n",
       "        0.00000000e+00],\n",
       "       [1.90229752e-03, 7.56163266e-02, 3.56680786e-02, 9.96328328e-01,\n",
       "        3.09123348e-03, 1.80718265e-02, 0.00000000e+00, 0.00000000e+00,\n",
       "        2.37787190e-04],\n",
       "       [2.01196310e-03, 7.64545978e-02, 3.01794465e-02, 9.96424725e-01,\n",
       "        3.49578588e-03, 1.91136494e-02, 0.00000000e+00, 0.00000000e+00,\n",
       "        2.51495387e-04],\n",
       "       [1.78314500e-03, 7.42977082e-02, 3.12050374e-02, 9.96480862e-01,\n",
       "        4.30926707e-03, 2.25865033e-02, 0.00000000e+00, 0.00000000e+00,\n",
       "        2.97190833e-04],\n",
       "       [1.98627288e-03, 6.62090960e-02, 2.68146839e-02, 9.97108985e-01,\n",
       "        5.82640044e-03, 2.51594565e-02, 0.00000000e+00, 0.00000000e+00,\n",
       "        3.31045480e-04],\n",
       "       [1.26771305e-03, 4.12006741e-02, 3.23266828e-02, 9.98324027e-01,\n",
       "        4.97577372e-03, 2.40865479e-02, 3.16928262e-04, 0.00000000e+00,\n",
       "        0.00000000e+00],\n",
       "       [2.02203131e-03, 8.03757445e-02, 3.79130870e-02, 9.95850419e-01,\n",
       "        3.33635166e-03, 1.92092974e-02, 0.00000000e+00, 0.00000000e+00,\n",
       "        2.52753913e-04],\n",
       "       [2.04278438e-03, 5.31123938e-02, 3.67701188e-02, 9.97559705e-01,\n",
       "        5.27719298e-03, 2.58752688e-02, 0.00000000e+00, 3.40464063e-04,\n",
       "        0.00000000e+00],\n",
       "       [1.69678101e-03, 7.06992088e-02, 2.77140899e-02, 9.96858844e-01,\n",
       "        5.37313987e-03, 2.17753563e-02, 0.00000000e+00, 0.00000000e+00,\n",
       "        2.82796835e-04],\n",
       "       [1.44869148e-03, 5.07042018e-02, 3.22333855e-02, 9.97786258e-01,\n",
       "        5.72233135e-03, 2.78873110e-02, 0.00000000e+00, 0.00000000e+00,\n",
       "        3.62172870e-04],\n",
       "       [2.01078861e-03, 4.52427437e-02, 2.41294633e-02, 9.97853847e-01,\n",
       "        1.08079888e-02, 3.92103779e-02, 5.02697152e-04, 0.00000000e+00,\n",
       "        0.00000000e+00],\n",
       "       [1.92819300e-03, 4.09741013e-02, 3.37433775e-02, 9.97839879e-01,\n",
       "        8.96609746e-03, 3.75997636e-02, 0.00000000e+00, 4.82048251e-04,\n",
       "        0.00000000e+00],\n",
       "       [1.69251959e-03, 6.51620042e-02, 2.96190928e-02, 9.97176125e-01,\n",
       "        5.41606269e-03, 2.20027547e-02, 0.00000000e+00, 0.00000000e+00,\n",
       "        2.82086598e-04],\n",
       "       [1.86299104e-03, 7.20356537e-02, 2.79448657e-02, 9.96700209e-01,\n",
       "        5.34057433e-03, 2.42188836e-02, 0.00000000e+00, 0.00000000e+00,\n",
       "        3.10498507e-04],\n",
       "       [1.95334362e-03, 7.76454091e-02, 3.41835134e-02, 9.96205249e-01,\n",
       "        3.34510096e-03, 1.90451003e-02, 0.00000000e+00, 0.00000000e+00,\n",
       "        2.44167953e-04],\n",
       "       [1.85204513e-03, 4.53751057e-02, 3.14847672e-02, 9.97789314e-01,\n",
       "        7.63968616e-03, 3.61148800e-02, 0.00000000e+00, 0.00000000e+00,\n",
       "        4.63011283e-04],\n",
       "       [1.45317547e-03, 5.66738432e-02, 3.81458560e-02, 9.97241664e-01,\n",
       "        6.06700757e-03, 2.83369216e-02, 0.00000000e+00, 0.00000000e+00,\n",
       "        3.63293867e-04],\n",
       "       [1.39792976e-03, 5.27718483e-02, 2.97060073e-02, 9.97772363e-01,\n",
       "        6.15089092e-03, 2.72596302e-02, 0.00000000e+00, 0.00000000e+00,\n",
       "        3.49482439e-04],\n",
       "       [1.75571276e-03, 4.76968634e-02, 3.89182996e-02, 9.97830088e-01,\n",
       "        4.62337695e-03, 2.28242659e-02, 2.92618794e-04, 0.00000000e+00,\n",
       "        0.00000000e+00],\n",
       "       [1.86931613e-03, 4.57982451e-02, 3.17783741e-02, 9.97747482e-01,\n",
       "        7.75766192e-03, 3.64516644e-02, 0.00000000e+00, 4.67329031e-04,\n",
       "        0.00000000e+00],\n",
       "       [1.84261366e-03, 7.09406258e-02, 3.53167618e-02, 9.96546887e-01,\n",
       "        4.72937506e-03, 2.42610798e-02, 0.00000000e+00, 0.00000000e+00,\n",
       "        3.07102276e-04],\n",
       "       [1.78026036e-03, 6.67597636e-02, 3.26381066e-02, 9.96945802e-01,\n",
       "        4.92538700e-03, 2.34400948e-02, 0.00000000e+00, 0.00000000e+00,\n",
       "        2.96710060e-04],\n",
       "       [2.13885735e-03, 8.07418648e-02, 3.44890747e-02, 9.95905451e-01,\n",
       "        3.58258605e-03, 2.11212163e-02, 0.00000000e+00, 0.00000000e+00,\n",
       "        2.67357168e-04],\n",
       "       [2.01320780e-03, 8.83294923e-02, 3.47278346e-02, 9.95279607e-01,\n",
       "        3.32179287e-03, 1.98804270e-02, 0.00000000e+00, 0.00000000e+00,\n",
       "        2.51650975e-04],\n",
       "       [1.96442286e-03, 8.61890529e-02, 3.48685057e-02, 9.95471284e-01,\n",
       "        3.51140586e-03, 1.93986757e-02, 0.00000000e+00, 0.00000000e+00,\n",
       "        2.45552857e-04],\n",
       "       [2.07249963e-03, 4.61131169e-02, 3.67868685e-02, 9.97390449e-01,\n",
       "        7.25374872e-03, 4.09318678e-02, 5.18124909e-04, 0.00000000e+00,\n",
       "        0.00000000e+00],\n",
       "       [1.49524363e-03, 4.52311197e-02, 2.99048725e-02, 9.98075120e-01,\n",
       "        5.60716360e-03, 2.95310616e-02, 0.00000000e+00, 0.00000000e+00,\n",
       "        3.73810906e-04],\n",
       "       [2.33097514e-03, 7.57566919e-02, 2.62234703e-02, 9.96491871e-01,\n",
       "        6.46845600e-03, 2.30183795e-02, 0.00000000e+00, 0.00000000e+00,\n",
       "        2.91371892e-04],\n",
       "       [1.86122041e-03, 4.55999000e-02, 3.53631878e-02, 9.97614140e-01,\n",
       "        6.83998501e-03, 3.72244082e-02, 4.65305102e-04, 0.00000000e+00,\n",
       "        0.00000000e+00],\n",
       "       [2.02773769e-03, 4.51171635e-02, 3.04160653e-02, 9.97646941e-01,\n",
       "        9.53036712e-03, 4.05547537e-02, 0.00000000e+00, 5.06934421e-04,\n",
       "        0.00000000e+00],\n",
       "       [1.91466105e-03, 4.30798736e-02, 2.29759326e-02, 9.98017071e-01,\n",
       "        1.03870362e-02, 3.82932210e-02, 4.78665262e-04, 0.00000000e+00,\n",
       "        0.00000000e+00],\n",
       "       [1.69239366e-03, 4.09559266e-02, 2.26780751e-02, 9.98512260e-01,\n",
       "        6.73572677e-03, 2.70782986e-02, 3.38478732e-04, 0.00000000e+00,\n",
       "        0.00000000e+00],\n",
       "       [1.22886866e-03, 4.48537061e-02, 2.05835500e-02, 9.98455786e-01,\n",
       "        6.69733419e-03, 2.45773732e-02, 3.07217165e-04, 0.00000000e+00,\n",
       "        0.00000000e+00],\n",
       "       [2.16218077e-03, 4.81085221e-02, 3.35138019e-02, 9.97305880e-01,\n",
       "        8.27034145e-03, 4.32436154e-02, 5.40545193e-04, 0.00000000e+00,\n",
       "        0.00000000e+00],\n",
       "       [2.26651698e-03, 4.58969688e-02, 3.39977547e-02, 9.97267470e-01,\n",
       "        9.12273083e-03, 4.58969688e-02, 0.00000000e+00, 5.66629244e-04,\n",
       "        0.00000000e+00],\n",
       "       [1.75153304e-03, 6.74340219e-02, 3.21114390e-02, 9.96914220e-01,\n",
       "        4.61237033e-03, 2.36456960e-02, 0.00000000e+00, 0.00000000e+00,\n",
       "        2.91922173e-04],\n",
       "       [1.51218467e-03, 4.23411708e-02, 3.32680628e-02, 9.98041883e-01,\n",
       "        7.03165872e-03, 3.09997858e-02, 0.00000000e+00, 0.00000000e+00,\n",
       "        3.78046168e-04],\n",
       "       [1.55027145e-03, 4.34076006e-02, 3.29432683e-02, 9.97987246e-01,\n",
       "        6.27859937e-03, 3.17805647e-02, 0.00000000e+00, 0.00000000e+00,\n",
       "        3.87567862e-04],\n",
       "       [1.97051454e-03, 4.48292058e-02, 3.34987472e-02, 9.97572987e-01,\n",
       "        8.96584117e-03, 4.03955481e-02, 0.00000000e+00, 4.92628635e-04,\n",
       "        0.00000000e+00],\n",
       "       [1.80959350e-03, 4.84066260e-02, 3.39298781e-02, 9.97538415e-01,\n",
       "        6.55977642e-03, 3.70966667e-02, 0.00000000e+00, 4.52398374e-04,\n",
       "        0.00000000e+00],\n",
       "       [2.00005039e-03, 4.55011464e-02, 3.35008441e-02, 9.97525133e-01,\n",
       "        8.10020409e-03, 4.10010330e-02, 0.00000000e+00, 5.00012598e-04,\n",
       "        0.00000000e+00],\n",
       "       [1.43057268e-03, 5.00700437e-02, 3.07573126e-02, 9.97824443e-01,\n",
       "        5.57923344e-03, 2.93267399e-02, 0.00000000e+00, 0.00000000e+00,\n",
       "        3.57643169e-04],\n",
       "       [1.87391987e-03, 4.54425568e-02, 2.43609583e-02, 9.97862330e-01,\n",
       "        1.15246072e-02, 3.84153573e-02, 4.68479967e-04, 0.00000000e+00,\n",
       "        0.00000000e+00]])"
      ]
     },
     "execution_count": 122,
     "metadata": {},
     "output_type": "execute_result"
    }
   ],
   "source": [
    "normalizer.inverse_transform(test_features)"
   ]
  },
  {
   "cell_type": "code",
   "execution_count": null,
   "metadata": {},
   "outputs": [],
   "source": []
  }
 ],
 "metadata": {
  "kernelspec": {
   "display_name": "Python 3.10.6 ('mii-dl2')",
   "language": "python",
   "name": "python3"
  },
  "language_info": {
   "codemirror_mode": {
    "name": "ipython",
    "version": 3
   },
   "file_extension": ".py",
   "mimetype": "text/x-python",
   "name": "python",
   "nbconvert_exporter": "python",
   "pygments_lexer": "ipython3",
   "version": "3.10.6"
  },
  "orig_nbformat": 4,
  "vscode": {
   "interpreter": {
    "hash": "da7b20d999b76e06c7fc0b4cb2c5f264824913752863ff726fe44a281a24dbb4"
   }
  }
 },
 "nbformat": 4,
 "nbformat_minor": 2
}
