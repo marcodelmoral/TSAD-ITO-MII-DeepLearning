{
 "cells": [
  {
   "cell_type": "markdown",
   "metadata": {},
   "source": [
    "# Lenguaje Python \n",
    "\n",
    "<https://www.python.org/>\n",
    "\n",
    "Características\n",
    "\n",
    "* Lenguaje de propósito general.\n",
    "* Multi paradigma.\n",
    "* El lenguaje más usado del mundo. -> Indice [TIOBE](https://www.tiobe.com/tiobe-index/)\n",
    "* Énfasis en una lectura sencilla.\n",
    "* Implementado en lenguaje C.\n",
    "* El más usado para análisis de datos y machine learning.\n",
    "\n",
    "\n",
    "## Jupyter Notebook \n",
    "\n",
    "<https://jupyter.org/>\n",
    "\n",
    "Un Jupyter Notebook es un documento que contiene tanto código como texto enriquecido. Los notebooks son ideales para:\n",
    "\n",
    "* Limpieza y transformación de datos.\n",
    "* Compartir código con compañeros.\n",
    "* Crear documentos que contengan tanto código como texto enriquecido.\n",
    "* Transformar datos y visualizar resultados.\n",
    "* Aprender a programar."
   ]
  },
  {
   "cell_type": "markdown",
   "metadata": {},
   "source": [
    "## Sintaxis\n",
    "\n",
    "La sintaxis se refiere a como se escribe el lenguaje, es decir, el conjunto de reglas que define como un programa se escribe o interpreta. Python es un lenguaje fácil de leer, por lo que su sintaxis es muy simple.\n",
    "\n",
    "Hay dos cosas que debemos tener en cuenta:\n",
    "\n",
    "* Python usa los espacios en blanco (4 espacios o un tabulador) para darle estructura al código.\n",
    "* Python usa como comentario el símbolo `#`.\n",
    "\n",
    "### Variables\n",
    "\n",
    "Una variable es un objeto donde podemos almacenar un valor y este puede ir cambiando a lo largo del programa. En Python no es necesario declarar una variable antes de usarla, simplemente se asigna un valor a la variable y listo.\n",
    "\n",
    "#### Tipos de variables\n",
    "\n",
    "* Enteros: int - Números enteros.\n",
    "* Flotantes: float - Números con decimales.\n",
    "* Booleanos: bool - Verdadero o falso.\n",
    "* Cadenas: str - Texto.\n",
    "* Listas: list - Colección de objetos.\n",
    "* Tuplas: tuple - Colección de objetos inmutables.\n",
    "* Diccionarios: dict - Colección de objetos con clave-valor.\n",
    "\n",
    "#### Asignación de variables\n",
    "\n",
    "Basta con asignar un valor a una variable para declararla."
   ]
  },
  {
   "cell_type": "code",
   "execution_count": 21,
   "metadata": {},
   "outputs": [],
   "source": [
    "a = 1   # Este es un comentario\n",
    "b = 2\n",
    "cualquier_tipo_de_nombre = 1\n",
    "flotantes = 1.0\n",
    "cadena = \"letras\"\n",
    "cadena2 = ' o cadenas'  # Otra forma de definir una cadena\n",
    "cadena3 = \"5\"\n",
    "booleanos = True"
   ]
  },
  {
   "cell_type": "code",
   "execution_count": 22,
   "metadata": {},
   "outputs": [],
   "source": [
    "lista = [1,2,3,4,5,\"cadenas\", True, 1.0]\n",
    "lista2 = [10,11,12]\n",
    "tupla = (1,2,3)\n",
    "diccionario = {\n",
    "    \"identicador\": 1, \n",
    "    \"id2\": \"hola\", \n",
    "    \"id3\": 2.0\n",
    "    }"
   ]
  },
  {
   "cell_type": "markdown",
   "metadata": {},
   "source": [
    "Para obtener un elemento en particular de una lista, usamos la sintaxis `lista[indice]`. Los índices en Python empiezan en 0. Por ejemplo, si tenemos la lista `lista = [1, 2, 3]`, el primer elemento es `lista[0]`, el segundo es `lista[1]` y el tercero es `lista[2]`."
   ]
  },
  {
   "cell_type": "code",
   "execution_count": 23,
   "metadata": {},
   "outputs": [
    {
     "data": {
      "text/plain": [
       "1.0"
      ]
     },
     "execution_count": 23,
     "metadata": {},
     "output_type": "execute_result"
    }
   ],
   "source": [
    "lista[-1]"
   ]
  },
  {
   "cell_type": "markdown",
   "metadata": {},
   "source": [
    "Lo mismo sucede con las tuplas."
   ]
  },
  {
   "cell_type": "code",
   "execution_count": 24,
   "metadata": {},
   "outputs": [
    {
     "data": {
      "text/plain": [
       "1"
      ]
     },
     "execution_count": 24,
     "metadata": {},
     "output_type": "execute_result"
    }
   ],
   "source": [
    "tupla[0]"
   ]
  },
  {
   "cell_type": "markdown",
   "metadata": {},
   "source": [
    "Para los diccionarios, se accede a los valores usando el nombre de la clave. Por ejemplo, si tenemos el diccionario `diccionario = {'nombre': 'Juan', 'edad': 20}`, para obtener el valor de la clave `nombre` usamos `diccionario['nombre']`."
   ]
  },
  {
   "cell_type": "code",
   "execution_count": 25,
   "metadata": {},
   "outputs": [
    {
     "data": {
      "text/plain": [
       "2.0"
      ]
     },
     "execution_count": 25,
     "metadata": {},
     "output_type": "execute_result"
    }
   ],
   "source": [
    "diccionario[\"id3\"]"
   ]
  },
  {
   "cell_type": "markdown",
   "metadata": {},
   "source": [
    "Para agregar un elemento a una lista, usamos el método `.append()`. Por ejemplo, si tenemos la lista `lista = [1, 2, 3]`, para agregar el elemento 4 a la lista usamos `lista.append(4)`."
   ]
  },
  {
   "cell_type": "code",
   "execution_count": 26,
   "metadata": {},
   "outputs": [],
   "source": [
    "lista.append(\"hola\")"
   ]
  },
  {
   "cell_type": "markdown",
   "metadata": {},
   "source": [
    "Existen otros métodos para trabajar con listas, por ejemplo, para remover un valor."
   ]
  },
  {
   "cell_type": "code",
   "execution_count": 27,
   "metadata": {},
   "outputs": [],
   "source": [
    "lista.remove(\"hola\")"
   ]
  },
  {
   "cell_type": "markdown",
   "metadata": {},
   "source": [
    "Otra cosa que podemos hacer con las listas es sumarlas, esto nos permite concatenar (o unir) dos listas."
   ]
  },
  {
   "cell_type": "code",
   "execution_count": 28,
   "metadata": {},
   "outputs": [
    {
     "data": {
      "text/plain": [
       "[1, 2, 3, 4, 5, 'cadenas', True, 1.0, 10, 11, 12]"
      ]
     },
     "execution_count": 28,
     "metadata": {},
     "output_type": "execute_result"
    }
   ],
   "source": [
    "lista + lista2"
   ]
  },
  {
   "cell_type": "markdown",
   "metadata": {},
   "source": [
    "Los diccionarios nos permiten almacenar colecciones de cosas identificadas por una clave única. Por ejemplo, si queremos almacenar los nombres de los alumnos de una clase, podemos usar un diccionario donde la clave sea el número de lista y el valor sea el nombre del alumno. Los diccionarios pueden tener cualquier cosa adentro, inclusive otras listas o diccionarios."
   ]
  },
  {
   "cell_type": "code",
   "execution_count": 29,
   "metadata": {},
   "outputs": [],
   "source": [
    "dicc = {\n",
    "    \"key1\": 1,\n",
    "    \"key2\": 2,\n",
    "    \"key3\": [1,2,34,4,5],\n",
    "    \"key4\": {\"1\": \"uno\", \"2\": \"dos\"}\n",
    "    }"
   ]
  },
  {
   "cell_type": "markdown",
   "metadata": {},
   "source": [
    "Para cambiar el valor de una clave en un diccionario, simplemente asignamos un nuevo valor a la clave."
   ]
  },
  {
   "cell_type": "code",
   "execution_count": 30,
   "metadata": {},
   "outputs": [],
   "source": [
    "dicc[\"key1\"] = 4"
   ]
  },
  {
   "cell_type": "markdown",
   "metadata": {},
   "source": [
    "Para acceder al valor dentro de un diccionario adentro de otro diccionario, usamos lo siguiente."
   ]
  },
  {
   "cell_type": "code",
   "execution_count": 31,
   "metadata": {},
   "outputs": [
    {
     "data": {
      "text/plain": [
       "'uno'"
      ]
     },
     "execution_count": 31,
     "metadata": {},
     "output_type": "execute_result"
    }
   ],
   "source": [
    "dicc['key4'][\"1\"]"
   ]
  },
  {
   "cell_type": "markdown",
   "metadata": {},
   "source": [
    "## ¿Qué es una palabra reservada?\n",
    "\n",
    "Una palabra reservada, es una palabra ya ocupada para algo dentro del lenguaje de programación. Python tiene muy pocas palabras reservadas, por lo que es muy fácil recordarlas. Estas palabras reservadas no pueden ser usadas como nombres de variables, funciones, etc. Las puedes encontrar en la documentación oficial de Python.\n",
    "\n",
    "## Operadores\n",
    "\n",
    "Los operadores son símbolos que le indican a Python qué debe hacer con los valores que se le pasan. Por ejemplo, el operador `+` le indica a Python que debe sumar dos valores o, en el caso de listas, unirlas. Dependiendo del tipo de variable, cada operador puede tener un significado diferente.\n",
    "\n",
    "## Estrucutras de control\n",
    "\n",
    "Las estructuras de control son las que nos permiten controlar el flujo lógico de nuestro programa."
   ]
  },
  {
   "cell_type": "markdown",
   "metadata": {},
   "source": [
    "## Condicional `if`\n",
    "\n",
    "Este condicional nos permite ejecutar un bloque de código si se cumple una condición."
   ]
  },
  {
   "cell_type": "code",
   "execution_count": 32,
   "metadata": {},
   "outputs": [
    {
     "name": "stdout",
     "output_type": "stream",
     "text": [
      "otra cosa\n"
     ]
    }
   ],
   "source": [
    "condicion = 10\n",
    "if condicion < 5:\n",
    "    print(\"algo\")\n",
    "elif condicion == 10:   # = es el operador de asignacion, == es el operador de comparacion\n",
    "    print(\"otra cosa\")\n",
    "else:\n",
    "    print(\"nada\")"
   ]
  },
  {
   "cell_type": "markdown",
   "metadata": {},
   "source": [
    "La palabra reservada `not` nos permite negar una condición."
   ]
  },
  {
   "cell_type": "code",
   "execution_count": 33,
   "metadata": {},
   "outputs": [],
   "source": [
    "condicion2 = True\n",
    "\n",
    "if not condicion2:\n",
    "    print(\"algo\")"
   ]
  },
  {
   "cell_type": "markdown",
   "metadata": {},
   "source": [
    "## Ciclo `for`\n",
    "\n",
    "Este ciclo nos permite iterar sobre una colección de objetos. En particular, el `for` en Python en realidad es un `foreach`, es decir, itera sobre cada elemento de la colección en lugar del índice. Si queremos el índice, podemos usar la función `enumerate()`."
   ]
  },
  {
   "cell_type": "code",
   "execution_count": 34,
   "metadata": {},
   "outputs": [
    {
     "name": "stdout",
     "output_type": "stream",
     "text": [
      "id 0\n",
      "elemento 1\n",
      "id 1\n",
      "elemento 2\n",
      "id 2\n",
      "elemento 4\n",
      "id 3\n",
      "elemento 5\n"
     ]
    }
   ],
   "source": [
    "ejemplo_lista = [1,2,4,5]\n",
    "\n",
    "for id, elemento in enumerate(ejemplo_lista):\n",
    "    print(\"id\", id)\n",
    "    print(\"elemento\", elemento)"
   ]
  },
  {
   "cell_type": "markdown",
   "metadata": {},
   "source": [
    "## Declaracion de funciones\n",
    "\n",
    "Para declarar una función, usamos la palabra reservada `def` seguida del nombre de la función y los parámetros entre paréntesis. Por ejemplo, si queremos declarar una función que reciba dos números y devuelva la suma de ambos, podemos hacer lo siguiente.\n",
    "\n",
    "Los espacio en blanco son importantes en Python, por lo que debemos asegurarnos de que la función esté indentada con 4 espacios o un tabulador. Si no lo hacemos, Python nos va a tirar un error.\n",
    "\n",
    "Para llamar a una función, simplemente escribimos el nombre de la función y los parámetros entre paréntesis, como en matemáticas."
   ]
  },
  {
   "cell_type": "code",
   "execution_count": 35,
   "metadata": {},
   "outputs": [],
   "source": [
    "def suma(x,y,z):\n",
    "    \"\"\"\n",
    "    Docstring\n",
    "\n",
    "    Suma tres numeros\n",
    "    \"\"\"\n",
    "    return x + y + z"
   ]
  },
  {
   "cell_type": "code",
   "execution_count": 36,
   "metadata": {},
   "outputs": [
    {
     "data": {
      "text/plain": [
       "6"
      ]
     },
     "execution_count": 36,
     "metadata": {},
     "output_type": "execute_result"
    }
   ],
   "source": [
    "suma(1,2,3)"
   ]
  },
  {
   "cell_type": "markdown",
   "metadata": {},
   "source": [
    "## Métodos\n",
    "\n",
    "Un método es una función que pertenece a un objeto. Por ejemplo, si tenemos una lista, podemos llamar al método `.append()` para agregar un elemento a la lista."
   ]
  },
  {
   "cell_type": "markdown",
   "metadata": {},
   "source": [
    "## Módulos\n",
    "\n",
    "Los módulos son archivos que contienen código Python. Para usar un módulo, debemos importarlo. Por ejemplo, si queremos usar el módulo `math`, podemos importarlo de la siguiente manera. También podemos importar solo una parte del módulo y/o renombrarla."
   ]
  },
  {
   "cell_type": "code",
   "execution_count": 37,
   "metadata": {},
   "outputs": [],
   "source": [
    "import math\n",
    "from math import ceil\n",
    "from math import ceil as c"
   ]
  },
  {
   "cell_type": "code",
   "execution_count": 38,
   "metadata": {},
   "outputs": [
    {
     "data": {
      "text/plain": [
       "11"
      ]
     },
     "execution_count": 38,
     "metadata": {},
     "output_type": "execute_result"
    }
   ],
   "source": [
    "ceil(10.5)"
   ]
  },
  {
   "cell_type": "code",
   "execution_count": 39,
   "metadata": {},
   "outputs": [
    {
     "data": {
      "text/plain": [
       "9"
      ]
     },
     "execution_count": 39,
     "metadata": {},
     "output_type": "execute_result"
    }
   ],
   "source": [
    "math.floor(9.6)"
   ]
  },
  {
   "cell_type": "code",
   "execution_count": 40,
   "metadata": {},
   "outputs": [
    {
     "data": {
      "text/plain": [
       "11"
      ]
     },
     "execution_count": 40,
     "metadata": {},
     "output_type": "execute_result"
    }
   ],
   "source": [
    "c(10.5)"
   ]
  },
  {
   "cell_type": "markdown",
   "metadata": {},
   "source": [
    "Si queremos instalar un nuevo módulo, podemos usar la interfaz gráfica de Anaconda o, mediante la consola, usando el comando `conda install nombre_del_paquete` o `pip install nombre_del_paquete`."
   ]
  }
 ],
 "metadata": {
  "kernelspec": {
   "display_name": "Python 3.10.2 64-bit",
   "language": "python",
   "name": "python3"
  },
  "language_info": {
   "codemirror_mode": {
    "name": "ipython",
    "version": 3
   },
   "file_extension": ".py",
   "mimetype": "text/x-python",
   "name": "python",
   "nbconvert_exporter": "python",
   "pygments_lexer": "ipython3",
   "version": "3.10.2"
  },
  "orig_nbformat": 4,
  "vscode": {
   "interpreter": {
    "hash": "ba18286d27dd3f1705df4025c31d2b7021c67fcd01f023a6f194ed0db21ec453"
   }
  }
 },
 "nbformat": 4,
 "nbformat_minor": 2
}
